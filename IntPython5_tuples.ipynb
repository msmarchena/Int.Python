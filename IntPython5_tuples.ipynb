{
 "cells": [
  {
   "cell_type": "markdown",
   "id": "dc7c12f5",
   "metadata": {},
   "source": [
    "\n",
    "# 🔗 Python Basics: Tuples\n",
    "Author: Marlene Marchena\n",
    "\n",
    "A **tuple** is a data structure in Python that lets you store multiple values in a single variable.\n",
    "\n",
    "👉 Key facts:\n",
    "- Tuples are written with parentheses `()`  \n",
    "- They can hold values of different types  \n",
    "- **Tuples are immutable** → once created, their values cannot be changed  \n"
   ]
  },
  {
   "cell_type": "markdown",
   "id": "edfcba05",
   "metadata": {},
   "source": [
    "\n",
    "## 🛠️ Creating Tuples\n",
    "\n",
    "You can create tuples with numbers, strings, booleans, and more.  \n",
    "Tuples can mix different data types.\n"
   ]
  },
  {
   "cell_type": "code",
   "execution_count": null,
   "id": "129dac86",
   "metadata": {},
   "outputs": [],
   "source": [
    "t0 = (1, 2, 3)\n",
    "t1 = (0, 1, 2, True, \"Paul\")\n",
    "t2 = (0.8, 10, False, \"Eric\", True)\n",
    "\n",
    "print(\"t0 =\", t0)\n",
    "print(\"t1 =\", t1)\n",
    "print(\"t2 =\", t2)"
   ]
  },
  {
   "cell_type": "markdown",
   "id": "8d8f2383",
   "metadata": {},
   "source": [
    "\n",
    "## 📦 Nested Tuples\n",
    "\n",
    "A tuple can contain other tuples inside it.\n"
   ]
  },
  {
   "cell_type": "code",
   "execution_count": null,
   "id": "a5129660",
   "metadata": {},
   "outputs": [],
   "source": [
    "t3 = (\"Roger\", t1, (4, 5), True)\n",
    "print(\"t3 =\", t3)"
   ]
  },
  {
   "cell_type": "markdown",
   "id": "b4c8872b",
   "metadata": {},
   "source": [
    "\n",
    "## 🔍 Accessing Elements\n",
    "\n",
    "You can use **indexing and slicing** with tuples (just like with strings and lists).\n"
   ]
  },
  {
   "cell_type": "code",
   "execution_count": null,
   "id": "637eae4d",
   "metadata": {},
   "outputs": [],
   "source": [
    "t2 = (0.8, 10, False, \"Eric\", True)\n",
    "\n",
    "print(\"Element at index 3:\", t2[3])\n",
    "print(\"Elements from index 2 onwards:\", t2[2:])\n",
    "print(\"Last element:\", t2[-1])\n",
    "print(\"Second to last element:\", t2[-2])\n",
    "print(\"First three elements:\", t2[:3])"
   ]
  },
  {
   "cell_type": "markdown",
   "id": "2b3af564",
   "metadata": {},
   "source": [
    "\n",
    "⚠️ Tuples are **immutable** → you cannot change their values once created.\n",
    "\n",
    "```python\n",
    "t2[3] = \"Lucia\"   # ❌ This will cause an error!\n",
    "```\n"
   ]
  },
  {
   "cell_type": "markdown",
   "id": "fb311161",
   "metadata": {},
   "source": [
    "\n",
    "## ➕ Tuple Operations\n"
   ]
  },
  {
   "cell_type": "code",
   "execution_count": null,
   "id": "996cea81",
   "metadata": {},
   "outputs": [],
   "source": [
    "t0 = (1, 2, 3)\n",
    "t1 = (0, 1, 2, True, \"Paul\")\n",
    "\n",
    "# Unpacking a tuple\n",
    "x, y, z = t0\n",
    "print(\"x =\", x)\n",
    "print(\"y =\", y)\n",
    "print(\"z =\", z)\n",
    "\n",
    "# Concatenation\n",
    "t4 = t0 + t1\n",
    "print(\"t4 =\", t4)\n",
    "\n",
    "# Tuple methods\n",
    "print(\"Count of 2 in t4:\", t4.count(2))\n",
    "print(\"Index of 'Paul' in t4:\", t4.index(\"Paul\"))"
   ]
  },
  {
   "cell_type": "markdown",
   "id": "5e1e0999",
   "metadata": {},
   "source": [
    "\n",
    "# ✏️ Exercises: Tuples\n"
   ]
  },
  {
   "cell_type": "markdown",
   "id": "708b3dd4",
   "metadata": {},
   "source": [
    "\n",
    "### Exercise 1  \n",
    "Create a tuple `colors` with the values `\"red\"`, `\"green\"`, `\"blue\"`.  \n",
    "- Print the first color.  \n",
    "- Print the last color.  \n"
   ]
  },
  {
   "cell_type": "code",
   "execution_count": null,
   "id": "394837d1",
   "metadata": {},
   "outputs": [],
   "source": [
    "# Your code here\n",
    "colors = (\"red\", \"green\", \"blue\")\n",
    "print(\"First color:\", colors[0])\n",
    "print(\"Last color:\", colors[-1])"
   ]
  },
  {
   "cell_type": "markdown",
   "id": "6c3914ab",
   "metadata": {},
   "source": [
    "\n",
    "### Exercise 2  \n",
    "Create a tuple `numbers = (10, 20, 30, 40, 50)`.  \n",
    "- Print the slice `(20, 30, 40)` using indexes.  \n"
   ]
  },
  {
   "cell_type": "code",
   "execution_count": null,
   "id": "8eaed62b",
   "metadata": {},
   "outputs": [],
   "source": [
    "# Your code here\n",
    "numbers = (10, 20, 30, 40, 50)\n",
    "print(numbers[1:4])"
   ]
  },
  {
   "cell_type": "markdown",
   "id": "624da3f9",
   "metadata": {},
   "source": [
    "\n",
    "### Exercise 3  \n",
    "Unpack the tuple `point = (3, 4)` into variables `x` and `y`.  \n",
    "Print:  \n",
    "```\n",
    "x = 3\n",
    "y = 4\n",
    "```\n"
   ]
  },
  {
   "cell_type": "code",
   "execution_count": null,
   "id": "192c3b07",
   "metadata": {},
   "outputs": [],
   "source": [
    "# Your code here\n",
    "point = (3, 4)\n",
    "x, y = point\n",
    "print(\"x =\", x)\n",
    "print(\"y =\", y)"
   ]
  },
  {
   "cell_type": "markdown",
   "id": "e0f5e151",
   "metadata": {},
   "source": [
    "\n",
    "### Exercise 4  \n",
    "Concatenate the tuples `(1, 2)` and `(3, 4, 5)` into one tuple.  \n",
    "Print the result.  \n"
   ]
  },
  {
   "cell_type": "code",
   "execution_count": null,
   "id": "3d178f17",
   "metadata": {},
   "outputs": [],
   "source": [
    "# Your code here\n",
    "t1 = (1, 2)\n",
    "t2 = (3, 4, 5)\n",
    "t3 = t1 + t2\n",
    "print(t3)"
   ]
  }
 ],
 "metadata": {},
 "nbformat": 4,
 "nbformat_minor": 5
}