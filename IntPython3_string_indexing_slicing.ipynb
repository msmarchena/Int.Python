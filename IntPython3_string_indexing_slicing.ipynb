{
 "cells": [
  {
   "cell_type": "markdown",
   "id": "65fa664b",
   "metadata": {},
   "source": [
    "\n",
    "# 🔎 Python Basics: String Indexing and Slicing\n",
    "Author: Marlene Marchena\n",
    "\n",
    "Strings are sequences of characters.  \n",
    "This means we can access individual characters or parts of a string using **indexing** and **slicing**.\n"
   ]
  },
  {
   "cell_type": "markdown",
   "id": "094fbf20",
   "metadata": {},
   "source": [
    "\n",
    "## 🧩 Indexing\n",
    "\n",
    "Each character in a string has a **position number** called an **index**.  \n",
    "- Indexing starts at **0** (the first character).  \n",
    "- You can also use **negative indexes** to count from the end.\n"
   ]
  },
  {
   "cell_type": "markdown",
   "id": "89a74f77",
   "metadata": {},
   "source": [
    "\n",
    "Example: the string `\"Python\"`\n",
    "\n",
    "```\n",
    " Index (positive) →   0   1   2   3   4   5\n",
    " Characters       →   P   y   t   h   o   n\n",
    "\n",
    " Index (negative) →  -6  -5  -4  -3  -2  -1\n",
    "```\n"
   ]
  },
  {
   "cell_type": "code",
   "execution_count": 2,
   "id": "98df7649",
   "metadata": {},
   "outputs": [
    {
     "name": "stdout",
     "output_type": "stream",
     "text": [
      "word = Python\n",
      "First letter: P\n",
      "Second letter: y\n",
      "Last letter: n\n",
      "Second to last letter: o\n"
     ]
    }
   ],
   "source": [
    "word = \"Python\"\n",
    "\n",
    "print(\"word =\", word)\n",
    "print(\"First letter:\", word[0])\n",
    "print(\"Second letter:\", word[1])\n",
    "print(\"Last letter:\", word[-1])\n",
    "print(\"Second to last letter:\", word[-2])"
   ]
  },
  {
   "cell_type": "markdown",
   "id": "d05c5d2c",
   "metadata": {},
   "source": [
    "\n",
    "## ✂️ Slicing\n",
    "\n",
    "With **slicing**, you can take a part (substring) of a string.\n",
    "\n",
    "Syntax: `string[start:end]`  \n",
    "- Starts at index `start` (inclusive)  \n",
    "- Stops at index `end` (exclusive, not included)  \n",
    "\n",
    "You can also add a `step`: `string[start:end:step]`\n"
   ]
  },
  {
   "cell_type": "code",
   "execution_count": null,
   "id": "7cb45cbf",
   "metadata": {},
   "outputs": [],
   "source": [
    "word = \"Python\"\n",
    "\n",
    "print(\"word[0:4] =\", word[0:4])   # from index 0 to 3 (Pyth)\n",
    "print(\"word[2:6] =\", word[2:6])   # from index 2 to 5 (thon)\n",
    "print(\"word[:4]  =\", word[:4])    # from start to index 3\n",
    "print(\"word[2:]  =\", word[2:])    # from index 2 to the end\n",
    "print(\"word[::2] =\", word[::2])   # every 2nd character"
   ]
  },
  {
   "cell_type": "markdown",
   "id": "da2358f0",
   "metadata": {},
   "source": [
    "\n",
    "# ✏️ Exercises: Indexing and Slicing\n"
   ]
  },
  {
   "cell_type": "markdown",
   "id": "03f574be",
   "metadata": {},
   "source": [
    "\n",
    "### Exercise 1  \n",
    "Create a variable `fruit = \"banana\"`.  \n",
    "- Print the first letter.  \n",
    "- Print the last letter.  \n"
   ]
  },
  {
   "cell_type": "code",
   "execution_count": null,
   "id": "a4af6fd8",
   "metadata": {},
   "outputs": [],
   "source": [
    "# Your code here\n",
    "fruit = \"banana\"\n",
    "\n",
    "print(\"First letter:\", fruit[0])\n",
    "print(\"Last letter:\", fruit[-1])"
   ]
  },
  {
   "cell_type": "markdown",
   "id": "e51c7ffb",
   "metadata": {},
   "source": [
    "\n",
    "### Exercise 2  \n",
    "Using the string `fruit = \"banana\"`, print:  \n",
    "- The substring `\"ban\"`  \n",
    "- The substring `\"ana\"` (the second one)  \n"
   ]
  },
  {
   "cell_type": "code",
   "execution_count": null,
   "id": "9605a0f2",
   "metadata": {},
   "outputs": [],
   "source": [
    "# Your code here\n",
    "fruit = \"banana\"\n",
    "\n",
    "print(\"Substring 'ban':\", fruit[0:3])\n",
    "print(\"Substring 'ana':\", fruit[3:6])"
   ]
  },
  {
   "cell_type": "markdown",
   "id": "c6a1045d",
   "metadata": {},
   "source": [
    "\n",
    "### Exercise 3  \n",
    "Using the string `text = \"I love Python\"`, print:  \n",
    "- `\"I love\"`  \n",
    "- `\"Python\"`  \n",
    "- `\"I P\"` (using a step in slicing)  \n"
   ]
  },
  {
   "cell_type": "code",
   "execution_count": null,
   "id": "52b6a124",
   "metadata": {},
   "outputs": [],
   "source": [
    "# Your code here\n",
    "text = \"I love Python\"\n",
    "\n",
    "print(text[0:6])     # \"I love\"\n",
    "print(text[7:])      # \"Python\"\n",
    "print(text[0:7:3])   # \"I P\" "
   ]
  }
 ],
 "metadata": {
  "kernelspec": {
   "display_name": "gamenv",
   "language": "python",
   "name": "python3"
  },
  "language_info": {
   "codemirror_mode": {
    "name": "ipython",
    "version": 3
   },
   "file_extension": ".py",
   "mimetype": "text/x-python",
   "name": "python",
   "nbconvert_exporter": "python",
   "pygments_lexer": "ipython3",
   "version": "3.12.7"
  }
 },
 "nbformat": 4,
 "nbformat_minor": 5
}
