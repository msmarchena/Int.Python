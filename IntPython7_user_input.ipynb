{
 "cells": [
  {
   "cell_type": "markdown",
   "id": "72e7f1a7",
   "metadata": {},
   "source": [
    "\n",
    "# 👤 Python Basics: User Input\n",
    "Author: Marlene Marchena\n",
    "\n",
    "In Python, we can make our programs **interactive** by asking the user for information.\n",
    "\n",
    "👉 The function `input(\"your message\")` displays a prompt and waits for the user to type something.  \n",
    "- The result is always returned as a **string**.  \n",
    "- If you want to use numbers, you must **convert** the input with `int()` or `float()`.  \n"
   ]
  },
  {
   "cell_type": "markdown",
   "id": "4946a4be",
   "metadata": {},
   "source": [
    "## 📌 Fixed Variables (no input)"
   ]
  },
  {
   "cell_type": "code",
   "execution_count": null,
   "id": "cc03fd39",
   "metadata": {},
   "outputs": [],
   "source": [
    "prenom = 'Jules'\n",
    "age = 10\n",
    "\n",
    "print(\"Ton prénom est:\", prenom)\n",
    "print(\"Ton âge est:\", age)"
   ]
  },
  {
   "cell_type": "markdown",
   "id": "2ffb2711",
   "metadata": {},
   "source": [
    "## ⌨️ Asking the User for Input"
   ]
  },
  {
   "cell_type": "code",
   "execution_count": null,
   "id": "c345413d",
   "metadata": {},
   "outputs": [],
   "source": [
    "prenom_utilisateur = input(\"Comment tu t'appelles ? \")\n",
    "age_utilisateur = input(\"Quel âge as-tu ? \")\n",
    "\n",
    "print(\"Ton prénom est:\", prenom_utilisateur)\n",
    "print(\"Ton âge est:\", age_utilisateur)"
   ]
  },
  {
   "cell_type": "markdown",
   "id": "dd915ba8",
   "metadata": {},
   "source": [
    "## 🔢 Converting Input to Numbers"
   ]
  },
  {
   "cell_type": "code",
   "execution_count": null,
   "id": "1d86f80d",
   "metadata": {},
   "outputs": [],
   "source": [
    "age_utilisateur = int(input(\"Quel âge as-tu ? \"))\n",
    "\n",
    "print(\"Dans 5 ans tu auras:\", age_utilisateur + 5)"
   ]
  },
  {
   "cell_type": "markdown",
   "id": "8a23cb99",
   "metadata": {},
   "source": [
    "# ✏️ Exercise"
   ]
  },
  {
   "cell_type": "markdown",
   "id": "387fdb62",
   "metadata": {},
   "source": [
    "\n",
    "### Exercise 1  \n",
    "Ask the user for their name and age.  \n",
    "Print a message showing how old they will be in 20 years.  \n",
    "\n",
    "Example (if the user types `Jules` and `10`):  \n",
    "```\n",
    "Jules, dans 20 ans tu vas avoir 30 ans\n",
    "```\n"
   ]
  },
  {
   "cell_type": "code",
   "execution_count": null,
   "id": "61ecc546",
   "metadata": {},
   "outputs": [],
   "source": [
    "prenom = input(\"Quel est ton prénom ? \")\n",
    "age = int(input(\"Quel âge as-tu ? \"))\n",
    "\n",
    "print(f\"{prenom}, dans 20 ans tu vas avoir {age + 20} ans\")"
   ]
  }
 ],
 "metadata": {},
 "nbformat": 4,
 "nbformat_minor": 5
}
