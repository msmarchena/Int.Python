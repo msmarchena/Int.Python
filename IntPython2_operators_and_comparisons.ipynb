{
 "cells": [
  {
   "cell_type": "markdown",
   "id": "4a459955",
   "metadata": {},
   "source": [
    "\n",
    "# ➕ Python Basics: Operators\n",
    "Author: Marlene Marchena\n",
    "\n",
    "In Python, you can use **operators** to perform calculations and comparisons.\n",
    "\n",
    "There are two main categories we will cover:\n",
    "\n",
    "1. **Mathematical operators** (for arithmetic)  \n",
    "2. **Comparison operators** (to compare values)\n"
   ]
  },
  {
   "cell_type": "markdown",
   "id": "b655e9fa",
   "metadata": {},
   "source": [
    "\n",
    "## 🔢 Mathematical Operators\n",
    "\n",
    "Some common mathematical operators are:\n",
    "\n",
    "- `+` → addition  \n",
    "- `-` → subtraction  \n",
    "- `*` → multiplication  \n",
    "- `**` → exponentiation (power)  \n",
    "- `/` → division (returns a float)  \n",
    "- `//` → integer (floor) division (returns the whole number part only)\n"
   ]
  },
  {
   "cell_type": "code",
   "execution_count": null,
   "id": "c5d0771a",
   "metadata": {},
   "outputs": [],
   "source": [
    "# Example: using different operators\n",
    "x, y, z = 7, 2, 2.5   # assignment (multiple variables at once)\n",
    "\n",
    "op1 = x + y           # addition\n",
    "op2 = x - y           # subtraction\n",
    "op3 = x * y           # multiplication\n",
    "op4 = x ** y          # exponentiation (power)\n",
    "op5 = y / z           # division (float result)\n",
    "op6 = y // z          # integer division (whole part only)\n",
    "\n",
    "print(\"x + y =\", op1)\n",
    "print(\"x - y =\", op2)\n",
    "print(\"x * y =\", op3)\n",
    "print(\"x ** y =\", op4)\n",
    "print(\"y / z =\", op5)\n",
    "print(\"y // z =\", op6)"
   ]
  },
  {
   "cell_type": "markdown",
   "id": "6a0cd341",
   "metadata": {},
   "source": [
    "\n",
    "### ✏️ Exercises: Mathematical Operators\n"
   ]
  },
  {
   "cell_type": "markdown",
   "id": "017616ca",
   "metadata": {},
   "source": [
    "\n",
    "**Exercise 1**  \n",
    "Create the variables `a`, `b`, `c`, and `d` with the values:  \n",
    "- `a = 1.25`  \n",
    "- `b = 2`  \n",
    "- `c = 3`  \n",
    "- `d = 0.5`\n"
   ]
  },
  {
   "cell_type": "code",
   "execution_count": null,
   "id": "9d8197e6",
   "metadata": {},
   "outputs": [],
   "source": [
    "# Your code here\n",
    "a, b, c, d = 1.25, 2, 3, 0.5\n",
    "print(a, b, c, d)"
   ]
  },
  {
   "cell_type": "markdown",
   "id": "6dfb06db",
   "metadata": {},
   "source": [
    "\n",
    "**Exercise 2**  \n",
    "Calculate the sum of `a + b`.\n"
   ]
  },
  {
   "cell_type": "code",
   "execution_count": null,
   "id": "06ebd409",
   "metadata": {},
   "outputs": [],
   "source": [
    "# Your code here\n",
    "print(\"a + b =\", a + b)"
   ]
  },
  {
   "cell_type": "markdown",
   "id": "8b5dd0d7",
   "metadata": {},
   "source": [
    "\n",
    "**Exercise 3**  \n",
    "Perform the integer division of `a` by `d` (use `//`).\n"
   ]
  },
  {
   "cell_type": "code",
   "execution_count": null,
   "id": "09cf5d6d",
   "metadata": {},
   "outputs": [],
   "source": [
    "# Your code here\n",
    "print(\"a // d =\", a // d)"
   ]
  },
  {
   "cell_type": "markdown",
   "id": "eb94d404",
   "metadata": {},
   "source": [
    "\n",
    "**Exercise 4**  \n",
    "Calculate 2 to the power of 3 (`2 ** 3`).\n"
   ]
  },
  {
   "cell_type": "code",
   "execution_count": null,
   "id": "8ae6eea7",
   "metadata": {},
   "outputs": [],
   "source": [
    "# Your code here\n",
    "print(\"2 ** 3 =\", 2 ** 3)"
   ]
  },
  {
   "cell_type": "markdown",
   "id": "6bba74db",
   "metadata": {},
   "source": [
    "\n",
    "## ⚖️ Comparison Operators\n",
    "\n",
    "Comparison operators are used to compare values.  \n",
    "They always return a **boolean**: `True` or `False`.\n",
    "\n",
    "- `==` → equal to  \n",
    "- `!=` → not equal to  \n",
    "- `<` → less than  \n",
    "- `>` → greater than  \n",
    "- `<=` → less than or equal to  \n",
    "- `>=` → greater than or equal to\n"
   ]
  },
  {
   "cell_type": "code",
   "execution_count": null,
   "id": "2ed928bf",
   "metadata": {},
   "outputs": [],
   "source": [
    "# Example: using comparison operators\n",
    "a = 10\n",
    "b = 5\n",
    "\n",
    "print(\"a == b:\", a == b)   # is a equal to b?\n",
    "print(\"a != b:\", a != b)   # is a different from b?\n",
    "print(\"a < b:\", a < b)     # is a less than b?\n",
    "print(\"a > b:\", a > b)     # is a greater than b?\n",
    "print(\"a <= b:\", a <= b)   # is a less than or equal to b?\n",
    "print(\"a >= b:\", a >= b)   # is a greater than or equal to b?"
   ]
  },
  {
   "cell_type": "markdown",
   "id": "4d4029be",
   "metadata": {},
   "source": [
    "\n",
    "### ✏️ Exercises: Comparison Operators\n"
   ]
  },
  {
   "cell_type": "markdown",
   "id": "3130469d",
   "metadata": {},
   "source": [
    "\n",
    "**Exercise 5**  \n",
    "Check if 15 is greater than 20.\n"
   ]
  },
  {
   "cell_type": "code",
   "execution_count": null,
   "id": "a6ba13d6",
   "metadata": {},
   "outputs": [],
   "source": [
    "# Your code here\n",
    "print(15 > 20)"
   ]
  },
  {
   "cell_type": "markdown",
   "id": "8f0f5254",
   "metadata": {},
   "source": [
    "\n",
    "**Exercise 6**  \n",
    "Check if 7 is equal to 7.0 (what do you notice?).\n"
   ]
  },
  {
   "cell_type": "code",
   "execution_count": null,
   "id": "0617d6bc",
   "metadata": {},
   "outputs": [],
   "source": [
    "# Your code here\n",
    "print(7 == 7.0)"
   ]
  },
  {
   "cell_type": "markdown",
   "id": "70e4915d",
   "metadata": {},
   "source": [
    "\n",
    "**Exercise 7**  \n",
    "Create two variables, `x = 12` and `y = 8`.  \n",
    "Check if `x` is greater than or equal to `y`.\n"
   ]
  },
  {
   "cell_type": "code",
   "execution_count": null,
   "id": "0f1713e1",
   "metadata": {},
   "outputs": [],
   "source": [
    "# Your code here\n",
    "x, y = 12, 8\n",
    "print(x >= y)"
   ]
  }
 ],
 "metadata": {},
 "nbformat": 4,
 "nbformat_minor": 5
}