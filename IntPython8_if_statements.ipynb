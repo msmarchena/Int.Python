{
 "cells": [
  {
   "cell_type": "markdown",
   "id": "6526dc3f",
   "metadata": {},
   "source": [
    "\n",
    "# 🔀 Python Basics: If Statements\n",
    "Author: Marlene Marchena\n",
    "\n",
    "The **if statement** lets your program make decisions.\n",
    "\n",
    "👉 Structure:\n",
    "```python\n",
    "if condition:\n",
    "    # code to run if condition is True\n",
    "elif another_condition:\n",
    "    # code if the first was False, but this one is True\n",
    "else:\n",
    "    # code if none of the conditions above were True\n",
    "```\n",
    "\n",
    "Conditions are usually comparisons like `<`, `>`, `==`, `!=`, `<=`, `>=`.  \n",
    "They return either `True` or `False`.\n"
   ]
  },
  {
   "cell_type": "markdown",
   "id": "f3488586",
   "metadata": {},
   "source": [
    "\n",
    "## ✅ Example 1: Simple `if` / `else`\n"
   ]
  },
  {
   "cell_type": "code",
   "execution_count": null,
   "id": "06eefb0c",
   "metadata": {},
   "outputs": [],
   "source": [
    "prenom = \"Jules\"\n",
    "age = 5\n",
    "\n",
    "if age < 18:\n",
    "    print(\"Tu n'es pas un adulte\")\n",
    "else:\n",
    "    print(\"Tu es un adulte\")"
   ]
  },
  {
   "cell_type": "markdown",
   "id": "bb04dcd0",
   "metadata": {},
   "source": [
    "\n",
    "## 🔄 Example 2: Using `elif`\n",
    "\n",
    "We can add more conditions with `elif` (short for \"else if\").\n"
   ]
  },
  {
   "cell_type": "code",
   "execution_count": null,
   "id": "c02f6bcb",
   "metadata": {},
   "outputs": [],
   "source": [
    "age = 18\n",
    "\n",
    "if age < 18:\n",
    "    print(\"Tu n'es pas un adulte\")\n",
    "elif age == 18:\n",
    "    print(\"Tu as 18 ans !\")\n",
    "else:\n",
    "    print(\"Tu es un adulte\")"
   ]
  },
  {
   "cell_type": "markdown",
   "id": "bb37c4e9",
   "metadata": {},
   "source": [
    "\n",
    "# ✏️ Exercise: School Levels\n",
    "\n",
    "Ask the user for their **name** and **age**.  \n",
    "Print a message depending on their age:\n",
    "\n",
    "- If age < 5 → \"`[name]`, tu es en maternelle\"  \n",
    "- If 5 ≤ age < 11 → \"`[name]`, tu es à l'école primaire\"  \n",
    "- If 11 ≤ age < 17 → \"`[name]`, tu es à l'école secondaire\"  \n",
    "- If age ≥ 17 → \"`[name]`, tu as fini l'école\"  \n"
   ]
  },
  {
   "cell_type": "code",
   "execution_count": null,
   "id": "20cb76f6",
   "metadata": {},
   "outputs": [],
   "source": [
    "prenom_util = input(\"Comment tu t'appelles ? \")\n",
    "age_util = int(input(\"Quel âge as-tu ? \"))\n",
    "\n",
    "if age_util < 5:\n",
    "    print(f\"{prenom_util}, tu es en maternelle\")\n",
    "elif age_util < 11:\n",
    "    print(f\"{prenom_util}, tu es à l'école primaire\")\n",
    "elif age_util < 17:\n",
    "    print(f\"{prenom_util}, tu es à l'école secondaire\")\n",
    "else:\n",
    "    print(f\"{prenom_util}, tu as fini l'école\")"
   ]
  }
 ],
 "metadata": {},
 "nbformat": 4,
 "nbformat_minor": 5
}