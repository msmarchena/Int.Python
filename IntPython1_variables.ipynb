{
 "cells": [
  {
   "cell_type": "markdown",
   "id": "affe16de",
   "metadata": {},
   "source": [
    "\n",
    "# 🐍 Python Basics: Variables\n",
    "Author: Marlene Marchena\n",
    "\n",
    "In Python, a **variable** is a name that stores a value.  \n",
    "This value can be of different types, such as:\n",
    "\n",
    "- **string** → text (`\"Hello\"`)\n",
    "- **integer** → whole numbers (`42`)\n",
    "- **float** → decimal numbers (`3.14`)\n",
    "- **complex** (imaginary numbers) → (`5 + 2j`)\n",
    "- **boolean** → `True` or `False`\n",
    "\n",
    "Let's see some examples!\n"
   ]
  },
  {
   "cell_type": "code",
   "execution_count": null,
   "id": "bedcccd1",
   "metadata": {},
   "outputs": [],
   "source": [
    "# Example: different types of variables\n",
    "\n",
    "text = \"Hello world\"   # string\n",
    "number1 = 38           # integer\n",
    "decimal = 20.76        # float\n",
    "imaginary = 5 + 2j     # complex number\n",
    "boolean = True         # boolean (can also be False)\n",
    "\n",
    "print(text)\n",
    "print(number1)\n",
    "print(decimal)\n",
    "print(imaginary)\n",
    "print(boolean)"
   ]
  },
  {
   "cell_type": "markdown",
   "id": "4e818f4c",
   "metadata": {},
   "source": [
    "\n",
    "## 🔄 Changing a Variable\n",
    "\n",
    "You can change the value stored in a variable at any time.\n"
   ]
  },
  {
   "cell_type": "code",
   "execution_count": null,
   "id": "9c134c07",
   "metadata": {},
   "outputs": [],
   "source": [
    "message = \"Hello there\"\n",
    "print(message)\n",
    "\n",
    "message = \"Bonjour\"\n",
    "print(message)"
   ]
  },
  {
   "cell_type": "markdown",
   "id": "a6b59dfd",
   "metadata": {},
   "source": [
    "\n",
    "## 🧐 Checking the Type of a Variable\n",
    "\n",
    "Use the built-in `type()` function to check the data type of a variable.\n"
   ]
  },
  {
   "cell_type": "code",
   "execution_count": null,
   "id": "dd7093bf",
   "metadata": {},
   "outputs": [],
   "source": [
    "print(type(text))\n",
    "print(type(number1))\n",
    "print(type(decimal))\n",
    "print(type(imaginary))\n",
    "print(type(boolean))"
   ]
  },
  {
   "cell_type": "markdown",
   "id": "74609703",
   "metadata": {},
   "source": [
    "\n",
    "# ✏️ Exercises: Variables\n",
    "\n",
    "Run each exercise in the code cells below and try your own answers!\n"
   ]
  },
  {
   "cell_type": "markdown",
   "id": "cce5323b",
   "metadata": {},
   "source": [
    "\n",
    "### Exercise 1  \n",
    "Create a variable `firstname` with your own first name.\n"
   ]
  },
  {
   "cell_type": "code",
   "execution_count": null,
   "id": "e06321e5",
   "metadata": {},
   "outputs": [],
   "source": [
    "# Your code here\n",
    "firstname = \"Marlene\"\n",
    "print(firstname)"
   ]
  },
  {
   "cell_type": "markdown",
   "id": "3ac4aa87",
   "metadata": {},
   "source": [
    "\n",
    "### Exercise 2  \n",
    "Print the variable `firstname`.\n"
   ]
  },
  {
   "cell_type": "code",
   "execution_count": null,
   "id": "6749e110",
   "metadata": {},
   "outputs": [],
   "source": [
    "# Your code here\n",
    "print(firstname)"
   ]
  },
  {
   "cell_type": "markdown",
   "id": "6a107191",
   "metadata": {},
   "source": [
    "\n",
    "### Exercise 3  \n",
    "Create two variables, `a` and `b`, with numbers of your choice.  \n",
    "Print their sum, difference, product, and division.\n"
   ]
  },
  {
   "cell_type": "code",
   "execution_count": null,
   "id": "e65928c3",
   "metadata": {},
   "outputs": [],
   "source": [
    "# Your code here\n",
    "a = 10\n",
    "b = 3\n",
    "\n",
    "print(\"a + b =\", a + b)\n",
    "print(\"a - b =\", a - b)\n",
    "print(\"a * b =\", a * b)\n",
    "print(\"a / b =\", a / b)"
   ]
  }
 ],
 "metadata": {},
 "nbformat": 4,
 "nbformat_minor": 5
}