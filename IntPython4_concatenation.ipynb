{
 "cells": [
  {
   "cell_type": "markdown",
   "id": "32ec80aa",
   "metadata": {},
   "source": [
    "\n",
    "# 🔗 Python Basics: String Concatenation (Chaining)\n",
    "Author: Marlene Marchena\n",
    "\n",
    "**Concatenation** means joining strings together.  \n",
    "Python provides several ways to combine strings.\n"
   ]
  },
  {
   "cell_type": "markdown",
   "id": "9a9cf613",
   "metadata": {},
   "source": [
    "\n",
    "## ➕ Method 1: Using `+`\n",
    "\n",
    "You can simply add strings together with `+`.\n"
   ]
  },
  {
   "cell_type": "code",
   "execution_count": null,
   "id": "c017ec0e",
   "metadata": {},
   "outputs": [],
   "source": [
    "txt1 = \"Bonjour\"\n",
    "txt2 = \"tout le monde\"\n",
    "\n",
    "print(txt1 + txt2)       # without space\n",
    "print(txt1 + \" \" + txt2) # with space"
   ]
  },
  {
   "cell_type": "markdown",
   "id": "982ca101",
   "metadata": {},
   "source": [
    "\n",
    "## 🪙 Method 2: Using `%s` (Old Style)\n",
    "\n",
    "You can insert variables into a string using `%s` as a placeholder.  \n",
    "This style comes from older versions of Python but still works.\n"
   ]
  },
  {
   "cell_type": "code",
   "execution_count": null,
   "id": "efece893",
   "metadata": {},
   "outputs": [],
   "source": [
    "txt1 = \"Bonjour\"\n",
    "txt2 = \"tout le monde\"\n",
    "\n",
    "print(\"Here is my text: %s %s\" % (txt1, txt2))"
   ]
  },
  {
   "cell_type": "markdown",
   "id": "a23637df",
   "metadata": {},
   "source": [
    "\n",
    "## 🛠️ Method 3: Using `.format()`\n",
    "\n",
    "The `.format()` method is more flexible.  \n",
    "You can use positions or names for variables.\n"
   ]
  },
  {
   "cell_type": "code",
   "execution_count": null,
   "id": "1b81c6cc",
   "metadata": {},
   "outputs": [],
   "source": [
    "txt1 = \"Bonjour\"\n",
    "txt2 = \"tout le monde\"\n",
    "\n",
    "print(\"Here is my text: {0} {1}\".format(txt1, txt2))   # using positions\n",
    "print(\"Here is my text: {} {}\".format(txt1, txt2))     # without positions\n",
    "print(\"Here is my text: {x} {y}\".format(x=txt1, y=txt2))  # using names"
   ]
  },
  {
   "cell_type": "markdown",
   "id": "ee48bb10",
   "metadata": {},
   "source": [
    "\n",
    "## ✨ Method 4: Using f-Strings (Python 3.6+)\n",
    "\n",
    "The newest and most convenient way is **f-strings**.  \n",
    "You just put `f` before the string and use `{}` for variables.\n"
   ]
  },
  {
   "cell_type": "code",
   "execution_count": null,
   "id": "a58e9363",
   "metadata": {},
   "outputs": [],
   "source": [
    "txt1 = \"Bonjour\"\n",
    "txt2 = \"tout le monde\"\n",
    "\n",
    "print(f\"From Python 3.6 onwards we can write: {txt1} {txt2}\")"
   ]
  },
  {
   "cell_type": "markdown",
   "id": "b77d863e",
   "metadata": {},
   "source": [
    "\n",
    "## 🔗 Method 5: Using `str.join()`\n",
    "\n",
    "The `.join()` method is useful when you want to join a **list of strings** with a separator.  \n",
    "This is often used when you have many pieces of text.\n",
    "\n",
    "Example: `\" \".join(list_of_words)`\n"
   ]
  },
  {
   "cell_type": "code",
   "execution_count": null,
   "id": "33b10511",
   "metadata": {},
   "outputs": [],
   "source": [
    "words = [\"Python\", \"is\", \"fun\"]\n",
    "sentence = \" \".join(words)\n",
    "print(sentence)\n",
    "\n",
    "csv_line = \",\".join([\"apple\", \"banana\", \"cherry\"])\n",
    "print(csv_line)"
   ]
  },
  {
   "cell_type": "markdown",
   "id": "f1c01843",
   "metadata": {},
   "source": [
    "\n",
    "# ✏️ Exercises: Concatenation\n"
   ]
  },
  {
   "cell_type": "markdown",
   "id": "c756691d",
   "metadata": {},
   "source": [
    "\n",
    "### Exercise 1  \n",
    "1. Create a variable `name` with your name.  \n",
    "2. Create a variable `message` containing the string `\"Bonjour %s ! Comment ça va ?\"`  \n",
    "3. Print the message using the variable `name`.  \n"
   ]
  },
  {
   "cell_type": "code",
   "execution_count": null,
   "id": "c6bb9b42",
   "metadata": {},
   "outputs": [],
   "source": [
    "# Your code here\n",
    "name = \"Marlene\"\n",
    "message = \"Bonjour %s ! Comment ça va ?\"\n",
    "print(message % name)"
   ]
  },
  {
   "cell_type": "markdown",
   "id": "3872f90a",
   "metadata": {},
   "source": [
    "\n",
    "### Exercise 2  \n",
    "1. Create three variables with the numbers `3`, `4`, and `12`.  \n",
    "2. Use `.format()` (Method 3) to print:  \n",
    "```\n",
    "The operation 3 times 4 is equal to 12\n",
    "```\n"
   ]
  },
  {
   "cell_type": "code",
   "execution_count": null,
   "id": "5399e626",
   "metadata": {},
   "outputs": [],
   "source": [
    "# Your code here\n",
    "a, b, result = 3, 4, 12\n",
    "print(\"The operation {0} times {1} is equal to {2}\".format(a, b, result))"
   ]
  },
  {
   "cell_type": "markdown",
   "id": "ffa31d76",
   "metadata": {},
   "source": [
    "\n",
    "### Exercise 3  \n",
    "Use `join()` to combine the following list into one string with spaces:  \n",
    "```python\n",
    "words = [\"I\", \"love\", \"Python\"]\n",
    "```\n",
    "Expected output:  \n",
    "```\n",
    "I love Python\n",
    "```\n"
   ]
  },
  {
   "cell_type": "code",
   "execution_count": null,
   "id": "53f03963",
   "metadata": {},
   "outputs": [],
   "source": [
    "# Your code here\n",
    "words = [\"I\", \"love\", \"Python\"]\n",
    "sentence = \" \".join(words)\n",
    "print(sentence)"
   ]
  }
 ],
 "metadata": {},
 "nbformat": 4,
 "nbformat_minor": 5
}