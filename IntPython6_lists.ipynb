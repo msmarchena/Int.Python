{
 "cells": [
  {
   "cell_type": "markdown",
   "id": "ce13cb3b",
   "metadata": {},
   "source": [
    "\n",
    "# 📋 Python Basics: Lists\n",
    "Author: Marlene Marchena\n",
    "\n",
    "A **list** is a data structure in Python that lets you store multiple values in a single variable.\n",
    "\n",
    "👉 Key facts:\n",
    "- Lists are written with square brackets `[]`  \n",
    "- They can hold values of different types  \n",
    "- **Lists are mutable** → you can change, add, or remove elements after creation  \n"
   ]
  },
  {
   "cell_type": "markdown",
   "id": "2ae887f7",
   "metadata": {},
   "source": [
    "\n",
    "## 🛠️ Creating Lists\n",
    "\n",
    "You can create lists with different types of elements.\n"
   ]
  },
  {
   "cell_type": "code",
   "execution_count": null,
   "id": "33eed033",
   "metadata": {},
   "outputs": [],
   "source": [
    "li0 = [\"Juan\", 4, True, 0.34]   # mixed values\n",
    "li1 = [1, 2, 3]                 # numbers\n",
    "\n",
    "print(\"li0 =\", li0)\n",
    "print(\"li1 =\", li1)\n",
    "\n",
    "print(\"Length of li0:\", len(li0))\n",
    "print(\"Length of li1:\", len(li1))"
   ]
  },
  {
   "cell_type": "markdown",
   "id": "8e7d893a",
   "metadata": {},
   "source": [
    "\n",
    "## 🔍 Accessing Elements and Basic Methods\n"
   ]
  },
  {
   "cell_type": "code",
   "execution_count": null,
   "id": "9b8397a9",
   "metadata": {},
   "outputs": [],
   "source": [
    "print(li0[0].upper())   # access and use a string method\n",
    "\n",
    "li0.reverse()           # reverse the list\n",
    "print(\"Reversed li0:\", li0)\n",
    "\n",
    "li1.sort()              # sort the list\n",
    "print(\"Sorted li1:\", li1)\n",
    "\n",
    "a = [1, 2, 3]\n",
    "b = [4, 5]\n",
    "a.extend(b)             # extend a with elements of b\n",
    "print(\"Extended a:\", a)"
   ]
  },
  {
   "cell_type": "markdown",
   "id": "37ba632c",
   "metadata": {},
   "source": [
    "\n",
    "## ✏️ Changing, Adding, and Removing Elements\n",
    "\n",
    "Since lists are **mutable**, you can modify them after creation.\n"
   ]
  },
  {
   "cell_type": "code",
   "execution_count": null,
   "id": "c59cee35",
   "metadata": {},
   "outputs": [],
   "source": [
    "li0 = [\"Juan\", 4, True, 0.34]\n",
    "li1 = [1, 2, 3]\n",
    "\n",
    "li0[0] = \"Joana\"          # change value at index 0\n",
    "print(li0)\n",
    "\n",
    "li1.append(4)             # add element at the end\n",
    "print(li1)\n",
    "\n",
    "li0.insert(2, \"happy\")    # insert at position 2\n",
    "print(li0)\n",
    "\n",
    "li1.remove(4)             # remove first occurrence of 4\n",
    "print(li1)\n",
    "\n",
    "popped = li0.pop()        # remove and return the last element\n",
    "print(\"li0 after pop:\", li0)\n",
    "print(\"popped value:\", popped)"
   ]
  },
  {
   "cell_type": "markdown",
   "id": "b854f40c",
   "metadata": {},
   "source": [
    "\n",
    "## 🧩 Copying Lists\n",
    "\n",
    "Be careful: assigning one list to another variable does **not** copy it,  \n",
    "it just creates another reference to the same list.\n",
    "\n",
    "To make a real copy, use slicing (`[:]`).\n"
   ]
  },
  {
   "cell_type": "code",
   "execution_count": null,
   "id": "79049085",
   "metadata": {},
   "outputs": [],
   "source": [
    "li1 = [1, 2, 3]\n",
    "li2 = li1         # not a copy, just another reference\n",
    "\n",
    "print(\"li1 =\", li1)\n",
    "print(\"li2 =\", li2)\n",
    "print(\"li1 == li2 ?\", li1 == li2)\n",
    "\n",
    "li1[0] = 7        # change li1 → also affects li2\n",
    "print(\"li1 after change:\", li1)\n",
    "print(\"li2 after change:\", li2)\n",
    "\n",
    "# Now make a copy\n",
    "li2 = li1[:]      # real copy\n",
    "li1[0] = 1        # change li1 again\n",
    "print(\"li1:\", li1)\n",
    "print(\"li2:\", li2)   # li2 stays unchanged"
   ]
  },
  {
   "cell_type": "markdown",
   "id": "98d279c1",
   "metadata": {},
   "source": [
    "\n",
    "# ✏️ Exercises: Lists\n"
   ]
  },
  {
   "cell_type": "markdown",
   "id": "b0bf74f4",
   "metadata": {},
   "source": [
    "\n",
    "### Exercise 1  \n",
    "1. Create a list `cars` with: `Toyota`, `Jaguar`, `BMW`, `Twingo`  \n",
    "2. Add `Peugeot` to the list  \n",
    "3. Replace `BMW` with `Tesla`  \n",
    "4. Create another list `mycars` with `Ferrari` and `Ford`  \n",
    "5. Extend `cars` with `mycars`  \n",
    "6. Insert `Mercedes` **after** `Twingo`  \n"
   ]
  },
  {
   "cell_type": "code",
   "execution_count": null,
   "id": "5f348e7d",
   "metadata": {},
   "outputs": [],
   "source": [
    "# Your code here\n",
    "cars = [\"Toyota\", \"Jaguar\", \"BMW\", \"Twingo\"]\n",
    "cars.append(\"Peugeot\")\n",
    "cars[2] = \"Tesla\"\n",
    "mycars = [\"Ferrari\", \"Ford\"]\n",
    "cars.extend(mycars)\n",
    "cars.insert(cars.index(\"Twingo\") + 1, \"Mercedes\")\n",
    "print(cars)"
   ]
  },
  {
   "cell_type": "markdown",
   "id": "d1ffa84e",
   "metadata": {},
   "source": [
    "\n",
    "### Exercise 2  \n",
    "Create a list of numbers `[1, 2, 3, 4, 5]`.  \n",
    "- Remove the last element using `.pop()`  \n",
    "- Insert the number `10` at the beginning  \n",
    "- Print the final list  \n"
   ]
  },
  {
   "cell_type": "code",
   "execution_count": null,
   "id": "a7cd1475",
   "metadata": {},
   "outputs": [],
   "source": [
    "# Your code here\n",
    "numbers = [1, 2, 3, 4, 5]\n",
    "numbers.pop()\n",
    "numbers.insert(0, 10)\n",
    "print(numbers)"
   ]
  }
 ],
 "metadata": {},
 "nbformat": 4,
 "nbformat_minor": 5
}