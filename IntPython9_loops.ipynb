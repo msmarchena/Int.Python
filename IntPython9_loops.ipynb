{
 "cells": [
  {
   "cell_type": "markdown",
   "id": "09bcc153",
   "metadata": {},
   "source": [
    "\n",
    "# 🐍 Loops in Python\n",
    "Author: Marlene Marchena\n",
    "\n",
    "This notebook introduces **for loops** and **while loops** in Python.\n",
    "\n",
    "- A **for loop** repeats a block of code a specific number of times or once for each element in a sequence (like a list or string).  \n",
    "- A **while loop** repeats a block of code **as long as its condition is True**.  \n",
    "  When the condition becomes False, the loop stops.\n",
    "\n",
    "⚠️ Warning: If the condition never becomes False, you get an **infinite loop**!\n"
   ]
  },
  {
   "cell_type": "markdown",
   "id": "fa0a7cba",
   "metadata": {},
   "source": [
    "\n",
    "## 🔁 For Loops\n",
    "\n",
    "A **for loop** is used to repeat actions a set number of times or to go through items in a collection.\n"
   ]
  },
  {
   "cell_type": "code",
   "execution_count": null,
   "id": "33c43b98",
   "metadata": {},
   "outputs": [],
   "source": [
    "# Example 1: Loop from 0 to 19\n",
    "for i in range(20):\n",
    "    print(f\"The value is: {i}\")"
   ]
  },
  {
   "cell_type": "code",
   "execution_count": null,
   "id": "722e156c",
   "metadata": {},
   "outputs": [],
   "source": [
    "# Example 2: Loop from 1 to 19, counting by 2\n",
    "for i in range(1, 20, 2):\n",
    "    print(f\"The value is: {i}\")"
   ]
  },
  {
   "cell_type": "code",
   "execution_count": null,
   "id": "1c902643",
   "metadata": {},
   "outputs": [],
   "source": [
    "# Example 3: Print the square of each number (1 to 12)\n",
    "for i in range(1, 13):\n",
    "    print(f\"The value {i} times {i} is {i * i}\")"
   ]
  },
  {
   "cell_type": "code",
   "execution_count": null,
   "id": "835fe0c9",
   "metadata": {},
   "outputs": [],
   "source": [
    "# Example 4: Loop through each item in a shopping list\n",
    "shopping_list = [\"milk\", \"bananas\", \"jam\", \"sugar\"]\n",
    "\n",
    "for item in shopping_list:\n",
    "    print(item)"
   ]
  },
  {
   "cell_type": "markdown",
   "id": "527007c8",
   "metadata": {},
   "source": [
    "\n",
    "## 🔄 While Loops\n",
    "\n",
    "A **while loop** keeps running **while its condition is True**.  \n",
    "It stops when the condition becomes False.\n"
   ]
  },
  {
   "cell_type": "code",
   "execution_count": null,
   "id": "2a897f1d",
   "metadata": {},
   "outputs": [],
   "source": [
    "# Example 5: Count from 0 to 9\n",
    "i = 0\n",
    "while i < 10:          # loop continues while i is less than 10\n",
    "    print(i)\n",
    "    i += 1             # increase i by 1 each time"
   ]
  },
  {
   "cell_type": "code",
   "execution_count": null,
   "id": "19a0bbf3",
   "metadata": {},
   "outputs": [],
   "source": [
    "# Example 6: A simple \"game\" loop\n",
    "run = True\n",
    "score = 0\n",
    "\n",
    "while run:             # loop continues as long as run == True\n",
    "    score += 1\n",
    "    print(score)\n",
    "    if score > 5:      # when score goes above 5, change run to False\n",
    "        run = False\n",
    "    print(\"Playing my game!\")\n",
    "print(\"You win!\")"
   ]
  },
  {
   "cell_type": "markdown",
   "id": "27a34002",
   "metadata": {},
   "source": [
    "\n",
    "## ✏️ Exercises\n",
    "\n",
    "### Exercise 1\n",
    "Print the multiplication of numbers up to 12.  \n",
    "Example output:\n",
    "```\n",
    "The value 1 times 1 is 1\n",
    "The value 2 times 2 is 4\n",
    "...\n",
    "The value 12 times 12 is 144\n",
    "```\n",
    "\n",
    "### Exercise 2\n",
    "Create a shopping list with: `milk`, `bananas`, `jam`, and `sugar`.  \n",
    "Print each item and also the total number of letters it contains.  \n",
    "Example:\n",
    "```\n",
    "The number of letters in milk is 4\n",
    "The number of letters in bananas is 7\n",
    "...\n",
    "```\n",
    "\n",
    "### Exercise 3\n",
    "Write a program that asks the user for their favorite pizza.  \n",
    "Print: `I also like {pizza}`.  \n",
    "If the user types `quit`, print `Goodbye` and stop the program.  \n",
    "\n",
    "Example run:\n",
    "```\n",
    "What is your favorite pizza? Type 'quit' to stop.\n",
    "Margarita\n",
    "I also like Margarita\n",
    "What is your favorite pizza? Type 'quit' to stop.\n",
    "Prosciutto\n",
    "I also like Prosciutto\n",
    "What is your favorite pizza? Type 'quit' to stop.\n",
    "quit\n",
    "Goodbye\n",
    "```\n"
   ]
  },
  {
   "cell_type": "markdown",
   "id": "dd19ee4c",
   "metadata": {},
   "source": []
  },
  {
   "cell_type": "code",
   "execution_count": null,
   "id": "a44d0304",
   "metadata": {},
   "outputs": [],
   "source": []
  }
 ],
 "metadata": {
  "language_info": {
   "name": "python"
  }
 },
 "nbformat": 4,
 "nbformat_minor": 5
}
